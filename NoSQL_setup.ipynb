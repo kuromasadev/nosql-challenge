{
 "cells": [
  {
   "attachments": {},
   "cell_type": "markdown",
   "id": "9a57c4c6",
   "metadata": {},
   "source": [
    "# Eat Safe, Love"
   ]
  },
  {
   "attachments": {},
   "cell_type": "markdown",
   "id": "064ef857",
   "metadata": {},
   "source": [
    "## Part 1: Database and Jupyter Notebook Set Up"
   ]
  },
  {
   "attachments": {},
   "cell_type": "markdown",
   "id": "664e3c1f",
   "metadata": {},
   "source": [
    "Import the data provided in the `establishments.json` file from your Terminal. Name the database `uk_food` and the collection `establishments`.\n",
    "\n",
    "Within this markdown cell, copy the line of text you used to import the data from your Terminal. This way, future analysts will be able to repeat your process.\n",
    "\n",
    "e.g.: Import the dataset with `YOUR IMPORT TEXT HERE`"
   ]
  },
  {
   "cell_type": "code",
   "execution_count": 1,
   "id": "3ecdd008",
   "metadata": {},
   "outputs": [],
   "source": [
    "# Import dependencies\n",
    "from pymongo import MongoClient\n",
    "from pymongo.server_api import ServerApi\n",
    "from pprint import pprint\n",
    "from atlascompass import mongopass\n",
    "import pandas as pd"
   ]
  },
  {
   "cell_type": "code",
   "execution_count": null,
   "id": "59390c4a",
   "metadata": {},
   "outputs": [],
   "source": [
    "# Create an instance of MongoClient\n",
    "# mongo = MongoClient(port=27017)\n",
    "\n",
    "## not using the local host due to issues with other services running on the same port.Instead, using the API to the free cloud service."
   ]
  },
  {
   "cell_type": "code",
   "execution_count": 2,
   "id": "3e5ae067",
   "metadata": {},
   "outputs": [
    {
     "name": "stdout",
     "output_type": "stream",
     "text": [
      "Pinged your deployment. You successfully connected to MongoDB!\n"
     ]
    }
   ],
   "source": [
    "uri = \"mongodb+srv://kuromasadev:{}@clusteraprda.x7kvjsy.mongodb.net/?retryWrites=true&w=majority\".format(mongopass)\n",
    "# Create a new client and connect to the server\n",
    "mongo = MongoClient(uri, server_api=ServerApi('1'))\n",
    "# Send a ping to confirm a successful connection\n",
    "try:\n",
    "    mongo.admin.command('ping')\n",
    "    print(\"Pinged your deployment. You successfully connected to MongoDB!\")\n",
    "except Exception as e:\n",
    "    print(e)"
   ]
  },
  {
   "cell_type": "code",
   "execution_count": 3,
   "id": "7f9ececa",
   "metadata": {},
   "outputs": [
    {
     "name": "stdout",
     "output_type": "stream",
     "text": [
      "The new database was created.\n"
     ]
    }
   ],
   "source": [
    "# confirm that our new database was created\n",
    "\n",
    "database_names = mongo.list_database_names()\n",
    "\n",
    "if \"uk_food\" in database_names:\n",
    "    print(\"The new database was created.\")\n",
    "else:\n",
    "    print(\"The new database was not found.\")"
   ]
  },
  {
   "cell_type": "code",
   "execution_count": 85,
   "id": "71e373c1",
   "metadata": {},
   "outputs": [],
   "source": [
    "# assign the uk_food database to a variable name\n",
    "db = mongo['uk_food']"
   ]
  },
  {
   "cell_type": "code",
   "execution_count": 86,
   "id": "ef1b89ed",
   "metadata": {},
   "outputs": [
    {
     "name": "stdout",
     "output_type": "stream",
     "text": [
      "Collections in the new database:\n",
      "establishments\n"
     ]
    }
   ],
   "source": [
    "# review the collections in our new database\n",
    "collection_names = db.list_collection_names()\n",
    "\n",
    "if collection_names:\n",
    "    print(\"Collections in the new database:\")\n",
    "    for collection_name in collection_names:\n",
    "        print(collection_name)\n",
    "else:\n",
    "    print(\"No collections found in the new database.\")\n"
   ]
  },
  {
   "cell_type": "code",
   "execution_count": 87,
   "id": "6a0d92df",
   "metadata": {},
   "outputs": [
    {
     "data": {
      "text/html": [
       "<div>\n",
       "<style scoped>\n",
       "    .dataframe tbody tr th:only-of-type {\n",
       "        vertical-align: middle;\n",
       "    }\n",
       "\n",
       "    .dataframe tbody tr th {\n",
       "        vertical-align: top;\n",
       "    }\n",
       "\n",
       "    .dataframe thead th {\n",
       "        text-align: right;\n",
       "    }\n",
       "</style>\n",
       "<table border=\"1\" class=\"dataframe\">\n",
       "  <thead>\n",
       "    <tr style=\"text-align: right;\">\n",
       "      <th></th>\n",
       "      <th>_id</th>\n",
       "      <th>FHRSID</th>\n",
       "      <th>ChangesByServerID</th>\n",
       "      <th>LocalAuthorityBusinessID</th>\n",
       "      <th>BusinessName</th>\n",
       "      <th>BusinessType</th>\n",
       "      <th>BusinessTypeID</th>\n",
       "      <th>AddressLine1</th>\n",
       "      <th>AddressLine2</th>\n",
       "      <th>AddressLine3</th>\n",
       "      <th>...</th>\n",
       "      <th>LocalAuthorityWebSite</th>\n",
       "      <th>LocalAuthorityEmailAddress</th>\n",
       "      <th>scores</th>\n",
       "      <th>SchemeType</th>\n",
       "      <th>geocode</th>\n",
       "      <th>RightToReply</th>\n",
       "      <th>Distance</th>\n",
       "      <th>NewRatingPending</th>\n",
       "      <th>meta</th>\n",
       "      <th>links</th>\n",
       "    </tr>\n",
       "  </thead>\n",
       "  <tbody>\n",
       "    <tr>\n",
       "      <th>0</th>\n",
       "      <td>648000bb0191e0b16a204a17</td>\n",
       "      <td>254719.0</td>\n",
       "      <td>0.0</td>\n",
       "      <td>PI/000069980</td>\n",
       "      <td>Refreshment Kiosk</td>\n",
       "      <td>Restaurant/Cafe/Canteen</td>\n",
       "      <td>1</td>\n",
       "      <td>The Bay</td>\n",
       "      <td>St Margarets Bay</td>\n",
       "      <td>Kent</td>\n",
       "      <td>...</td>\n",
       "      <td>http://www.dover.gov.uk/</td>\n",
       "      <td>publicprotection@dover.gov.uk</td>\n",
       "      <td>{'Hygiene': 0, 'Structural': 5, 'ConfidenceInM...</td>\n",
       "      <td>FHRS</td>\n",
       "      <td>{'longitude': '1.387974', 'latitude': '51.1522...</td>\n",
       "      <td></td>\n",
       "      <td>4587.347175</td>\n",
       "      <td>False</td>\n",
       "      <td>{'dataSource': None, 'extractDate': '0001-01-0...</td>\n",
       "      <td>[{'rel': 'self', 'href': 'https://api.ratings....</td>\n",
       "    </tr>\n",
       "    <tr>\n",
       "      <th>1</th>\n",
       "      <td>648000bb0191e0b16a204a18</td>\n",
       "      <td>1034540.0</td>\n",
       "      <td>0.0</td>\n",
       "      <td>PI/000078691</td>\n",
       "      <td>The Coastguard Inn</td>\n",
       "      <td>Pub/bar/nightclub</td>\n",
       "      <td>7843</td>\n",
       "      <td>The Bay</td>\n",
       "      <td>St Margarets Bay</td>\n",
       "      <td>Kent</td>\n",
       "      <td>...</td>\n",
       "      <td>http://www.dover.gov.uk/</td>\n",
       "      <td>publicprotection@dover.gov.uk</td>\n",
       "      <td>{'Hygiene': 0, 'Structural': 5, 'ConfidenceInM...</td>\n",
       "      <td>FHRS</td>\n",
       "      <td>{'longitude': '1.387974', 'latitude': '51.1522...</td>\n",
       "      <td></td>\n",
       "      <td>4587.347175</td>\n",
       "      <td>False</td>\n",
       "      <td>{'dataSource': None, 'extractDate': '0001-01-0...</td>\n",
       "      <td>[{'rel': 'self', 'href': 'https://api.ratings....</td>\n",
       "    </tr>\n",
       "    <tr>\n",
       "      <th>2</th>\n",
       "      <td>648000bb0191e0b16a204a19</td>\n",
       "      <td>254250.0</td>\n",
       "      <td>0.0</td>\n",
       "      <td>PI/000066174</td>\n",
       "      <td>The Pines Calyx</td>\n",
       "      <td>Other catering premises</td>\n",
       "      <td>7841</td>\n",
       "      <td>The Pines Garden</td>\n",
       "      <td>Beach Road</td>\n",
       "      <td>St Margarets Bay</td>\n",
       "      <td>...</td>\n",
       "      <td>http://www.dover.gov.uk/</td>\n",
       "      <td>publicprotection@dover.gov.uk</td>\n",
       "      <td>{'Hygiene': 0, 'Structural': 0, 'ConfidenceInM...</td>\n",
       "      <td>FHRS</td>\n",
       "      <td>{'longitude': '1.383298', 'latitude': '51.1481...</td>\n",
       "      <td></td>\n",
       "      <td>4587.362403</td>\n",
       "      <td>False</td>\n",
       "      <td>{'dataSource': None, 'extractDate': '0001-01-0...</td>\n",
       "      <td>[{'rel': 'self', 'href': 'https://api.ratings....</td>\n",
       "    </tr>\n",
       "  </tbody>\n",
       "</table>\n",
       "<p>3 rows × 28 columns</p>\n",
       "</div>"
      ],
      "text/plain": [
       "                        _id     FHRSID  ChangesByServerID  \\\n",
       "0  648000bb0191e0b16a204a17   254719.0                0.0   \n",
       "1  648000bb0191e0b16a204a18  1034540.0                0.0   \n",
       "2  648000bb0191e0b16a204a19   254250.0                0.0   \n",
       "\n",
       "  LocalAuthorityBusinessID        BusinessName             BusinessType  \\\n",
       "0             PI/000069980   Refreshment Kiosk  Restaurant/Cafe/Canteen   \n",
       "1             PI/000078691  The Coastguard Inn        Pub/bar/nightclub   \n",
       "2             PI/000066174     The Pines Calyx  Other catering premises   \n",
       "\n",
       "   BusinessTypeID      AddressLine1      AddressLine2      AddressLine3  ...  \\\n",
       "0               1           The Bay  St Margarets Bay              Kent  ...   \n",
       "1            7843           The Bay  St Margarets Bay              Kent  ...   \n",
       "2            7841  The Pines Garden        Beach Road  St Margarets Bay  ...   \n",
       "\n",
       "      LocalAuthorityWebSite     LocalAuthorityEmailAddress  \\\n",
       "0  http://www.dover.gov.uk/  publicprotection@dover.gov.uk   \n",
       "1  http://www.dover.gov.uk/  publicprotection@dover.gov.uk   \n",
       "2  http://www.dover.gov.uk/  publicprotection@dover.gov.uk   \n",
       "\n",
       "                                              scores SchemeType  \\\n",
       "0  {'Hygiene': 0, 'Structural': 5, 'ConfidenceInM...       FHRS   \n",
       "1  {'Hygiene': 0, 'Structural': 5, 'ConfidenceInM...       FHRS   \n",
       "2  {'Hygiene': 0, 'Structural': 0, 'ConfidenceInM...       FHRS   \n",
       "\n",
       "                                             geocode RightToReply  \\\n",
       "0  {'longitude': '1.387974', 'latitude': '51.1522...                \n",
       "1  {'longitude': '1.387974', 'latitude': '51.1522...                \n",
       "2  {'longitude': '1.383298', 'latitude': '51.1481...                \n",
       "\n",
       "      Distance NewRatingPending  \\\n",
       "0  4587.347175            False   \n",
       "1  4587.347175            False   \n",
       "2  4587.362403            False   \n",
       "\n",
       "                                                meta  \\\n",
       "0  {'dataSource': None, 'extractDate': '0001-01-0...   \n",
       "1  {'dataSource': None, 'extractDate': '0001-01-0...   \n",
       "2  {'dataSource': None, 'extractDate': '0001-01-0...   \n",
       "\n",
       "                                               links  \n",
       "0  [{'rel': 'self', 'href': 'https://api.ratings....  \n",
       "1  [{'rel': 'self', 'href': 'https://api.ratings....  \n",
       "2  [{'rel': 'self', 'href': 'https://api.ratings....  \n",
       "\n",
       "[3 rows x 28 columns]"
      ]
     },
     "execution_count": 87,
     "metadata": {},
     "output_type": "execute_result"
    }
   ],
   "source": [
    "# review a document in the establishments collection\n",
    "collection = db['establishments']\n",
    "\n",
    "documents = collection.find()\n",
    "\n",
    "document_preview = pd.DataFrame(documents)\n",
    "\n",
    "document_preview.head(3)"
   ]
  },
  {
   "cell_type": "code",
   "execution_count": 88,
   "id": "11c9f11b",
   "metadata": {},
   "outputs": [],
   "source": [
    "# assign the collection to a variable\n",
    "establishments = db['establishments']"
   ]
  },
  {
   "attachments": {},
   "cell_type": "markdown",
   "id": "d5671434",
   "metadata": {},
   "source": [
    "## Part 2: Update the Database"
   ]
  },
  {
   "attachments": {},
   "cell_type": "markdown",
   "id": "314bd884",
   "metadata": {},
   "source": [
    "1. An exciting new halal restaurant just opened in Greenwich, but hasn't been rated yet. The magazine has asked you to include it in your analysis. Add the following restaurant \"Penang Flavours\" to the database."
   ]
  },
  {
   "cell_type": "code",
   "execution_count": 25,
   "id": "c2da7648",
   "metadata": {},
   "outputs": [],
   "source": [
    "# Create a dictionary for the new restaurant data\n",
    "new_restaurant = {\n",
    "    \"BusinessName\":\"Penang Flavours\",\n",
    "    \"BusinessType\":\"Restaurant/Cafe/Canteen\",\n",
    "    \"BusinessTypeID\":\"\"\n",
    "}"
   ]
  },
  {
   "cell_type": "code",
   "execution_count": 26,
   "id": "a6e5cece",
   "metadata": {},
   "outputs": [],
   "source": [
    "# Insert the new restaurant into the collection\n",
    "insert_result = collection.insert_one(new_restaurant)\n"
   ]
  },
  {
   "cell_type": "code",
   "execution_count": 27,
   "id": "63bb10f9",
   "metadata": {},
   "outputs": [
    {
     "name": "stdout",
     "output_type": "stream",
     "text": [
      "New restaurant inserted successfully.\n"
     ]
    }
   ],
   "source": [
    "# Check that the new restaurant was inserted\n",
    "if insert_result.inserted_id:\n",
    "    print(\"New restaurant inserted successfully.\")\n",
    "else:\n",
    "    print(\"Failed to insert the new restaurant.\")\n"
   ]
  },
  {
   "attachments": {},
   "cell_type": "markdown",
   "id": "0ef4395a",
   "metadata": {},
   "source": [
    "2. Find the BusinessTypeID for \"Restaurant/Cafe/Canteen\" and return only the `BusinessTypeID` and `BusinessType` fields."
   ]
  },
  {
   "cell_type": "code",
   "execution_count": 28,
   "id": "93c63829",
   "metadata": {},
   "outputs": [],
   "source": [
    "# Find the BusinessTypeID for \"Restaurant/Cafe/Canteen\" and return only the BusinessTypeID and BusinessType fields\n",
    "business_type = collection.find_one(\n",
    "    {\"BusinessType\": \"Restaurant/Cafe/Canteen\"},\n",
    "    {\"BusinessTypeID\": 1, \"BusinessType\": 1, \"_id\": 0}\n",
    ")"
   ]
  },
  {
   "cell_type": "code",
   "execution_count": 29,
   "id": "d7281723",
   "metadata": {},
   "outputs": [
    {
     "name": "stdout",
     "output_type": "stream",
     "text": [
      "{'BusinessType': 'Restaurant/Cafe/Canteen', 'BusinessTypeID': 1}\n"
     ]
    }
   ],
   "source": [
    "print(business_type)"
   ]
  },
  {
   "attachments": {},
   "cell_type": "markdown",
   "id": "4e570caf",
   "metadata": {},
   "source": [
    "3. Update the new restaurant with the `BusinessTypeID` you found."
   ]
  },
  {
   "cell_type": "code",
   "execution_count": 83,
   "id": "68b91792",
   "metadata": {},
   "outputs": [],
   "source": [
    "object_id = ObjectId(\"648e61aee39a8dcafb86f69c\")\n",
    "document = collection.find_one({\"_id\": object_id})"
   ]
  },
  {
   "cell_type": "code",
   "execution_count": 66,
   "id": "7f599f3d",
   "metadata": {},
   "outputs": [],
   "source": [
    "# Update the new restaurant with the correct BusinessTypeID\n",
    "insert_fiter_1 = {\"name\": \"Penang Flavours\"}\n",
    "updated_data = {\"$set\": {\"BusinessTypeID\": \"1\"}}\n",
    "updated_result = collection.update_one(insert_fiter_1, updated_data)\n"
   ]
  },
  {
   "cell_type": "code",
   "execution_count": 90,
   "id": "ae6f486a",
   "metadata": {},
   "outputs": [],
   "source": [
    "object_id = ObjectId(\"648e61aee39a8dcafb86f69c\")\n",
    "check_document = collection.find_one({\"_id\": object_id})"
   ]
  },
  {
   "cell_type": "code",
   "execution_count": 93,
   "id": "b36a371a",
   "metadata": {},
   "outputs": [
    {
     "name": "stdout",
     "output_type": "stream",
     "text": [
      "{'BusinessName': 'Penang Flavours',\n",
      " 'BusinessType': 'Restaurant/Cafe/Canteen',\n",
      " 'BusinessTypeID': 1,\n",
      " '_id': ObjectId('648e61aee39a8dcafb86f69c')}\n"
     ]
    }
   ],
   "source": [
    "pprint(check_document)"
   ]
  },
  {
   "attachments": {},
   "cell_type": "markdown",
   "id": "67281254",
   "metadata": {},
   "source": [
    "4. The magazine is not interested in any establishments in Dover, so check how many documents contain the Dover Local Authority. Then, remove any establishments within the Dover Local Authority from the database, and check the number of documents to ensure they were deleted."
   ]
  },
  {
   "cell_type": "code",
   "execution_count": 94,
   "id": "768474a6",
   "metadata": {},
   "outputs": [
    {
     "name": "stdout",
     "output_type": "stream",
     "text": [
      "Number of documents with LocalAuthorityName as 'Dover': 994\n"
     ]
    }
   ],
   "source": [
    "# Find how many documents have LocalAuthorityName as \"Dover\"\n",
    "count_dover = collection.count_documents({\"LocalAuthorityName\": \"Dover\"})\n",
    "print(f\"Number of documents with LocalAuthorityName as 'Dover': {count_dover}\")\n"
   ]
  },
  {
   "cell_type": "code",
   "execution_count": 95,
   "id": "a11d5f1b",
   "metadata": {},
   "outputs": [
    {
     "name": "stdout",
     "output_type": "stream",
     "text": [
      "Deleted 994 documents with LocalAuthorityName as 'Dover'\n"
     ]
    }
   ],
   "source": [
    "# Delete all documents where LocalAuthorityName is \"Dover\"\n",
    "delete_result = collection.delete_many({\"LocalAuthorityName\": \"Dover\"})\n",
    "print(f\"Deleted {delete_result.deleted_count} documents with LocalAuthorityName as 'Dover'\")\n"
   ]
  },
  {
   "cell_type": "code",
   "execution_count": 96,
   "id": "2a51aba0",
   "metadata": {},
   "outputs": [
    {
     "name": "stdout",
     "output_type": "stream",
     "text": [
      "No documents remaining with LocalAuthorityName as 'Dover'\n"
     ]
    }
   ],
   "source": [
    "# Check if any remaining documents include Dover\n",
    "count_remaining = collection.count_documents({\"LocalAuthorityName\": \"Dover\"})\n",
    "if count_remaining == 0:\n",
    "    print(\"No documents remaining with LocalAuthorityName as 'Dover'\")\n",
    "else:\n",
    "    print(\"There are remaining documents with LocalAuthorityName as 'Dover'\")\n"
   ]
  },
  {
   "cell_type": "code",
   "execution_count": 99,
   "id": "8c356f7b",
   "metadata": {},
   "outputs": [
    {
     "name": "stdout",
     "output_type": "stream",
     "text": [
      "There are 38786 remaining documents.\n"
     ]
    }
   ],
   "source": [
    "# Check that other documents remain with 'find_one'\n",
    "remaining_document = collection.find_one()\n",
    "remaining_count = collection.count_documents({})\n",
    "\n",
    "if remaining_document:\n",
    "    print(f\"There are {remaining_count} remaining documents.\")\n",
    "else:\n",
    "    print(\"No documents remaining.\")\n"
   ]
  },
  {
   "attachments": {},
   "cell_type": "markdown",
   "id": "e9f1662d",
   "metadata": {},
   "source": [
    "5. Some of the number values are stored as strings, when they should be stored as numbers."
   ]
  },
  {
   "attachments": {},
   "cell_type": "markdown",
   "id": "c46df2df",
   "metadata": {},
   "source": [
    "Use `update_many` to convert `latitude` and `longitude` to decimal numbers."
   ]
  },
  {
   "cell_type": "code",
   "execution_count": 100,
   "id": "fd4112ce",
   "metadata": {},
   "outputs": [
    {
     "name": "stdout",
     "output_type": "stream",
     "text": [
      "Data type updated successfully.\n"
     ]
    }
   ],
   "source": [
    "# Change the data type from String to Decimal for longitude and latitude\n",
    "update_latlong = collection.update_many({}, [\n",
    "    {\"$set\": {\"longitude\": {\"$toDouble\": \"$longitude\"}}},\n",
    "    {\"$set\": {\"latitude\": {\"$toDouble\": \"$latitude\"}}}\n",
    "])\n",
    "\n",
    "# Check if the update was successful\n",
    "if update_latlong.modified_count > 0:\n",
    "    print(\"Data type updated successfully.\")\n",
    "else:\n",
    "    print(\"No changes were made.\")"
   ]
  },
  {
   "attachments": {},
   "cell_type": "markdown",
   "id": "142e319c",
   "metadata": {},
   "source": [
    "Use `update_many` to convert `RatingValue` to integer numbers."
   ]
  },
  {
   "cell_type": "code",
   "execution_count": 101,
   "id": "04430a5b",
   "metadata": {},
   "outputs": [
    {
     "data": {
      "text/plain": [
       "<pymongo.results.UpdateResult at 0x1aa5b568070>"
      ]
     },
     "execution_count": 101,
     "metadata": {},
     "output_type": "execute_result"
    }
   ],
   "source": [
    "# Set non 1-5 Rating Values to Null\n",
    "non_ratings = [\"AwaitingInspection\", \"Awaiting Inspection\", \"AwaitingPublication\", \"Pass\", \"Exempt\"]\n",
    "establishments.update_many({\"RatingValue\": {\"$in\": non_ratings}}, [ {'$set':{ \"RatingValue\" : None}} ])"
   ]
  },
  {
   "cell_type": "code",
   "execution_count": 102,
   "id": "92524ccc",
   "metadata": {},
   "outputs": [
    {
     "data": {
      "text/plain": [
       "<pymongo.results.UpdateResult at 0x1aa3faee770>"
      ]
     },
     "execution_count": 102,
     "metadata": {},
     "output_type": "execute_result"
    }
   ],
   "source": [
    "# Change the data type from String to Integer for RatingValue\n",
    "collection.update_many({\"RatingValue\": {\"$exists\": True}}, [{\"$set\": {\"RatingValue\": {\"$toInt\": \"$RatingValue\"}}}])\n"
   ]
  },
  {
   "cell_type": "code",
   "execution_count": 103,
   "id": "0deacaf9",
   "metadata": {},
   "outputs": [
    {
     "name": "stdout",
     "output_type": "stream",
     "text": [
      "Coordinates (Longitude, Latitude): <class 'str'> <class 'str'>\n",
      "RatingValue: <class 'int'>\n"
     ]
    }
   ],
   "source": [
    "# Check that the coordinates and rating value are now numbers\n",
    "document = collection.find_one()\n",
    "print(\"Coordinates (Longitude, Latitude):\", type(document[\"geocode\"][\"longitude\"]), type(document[\"geocode\"][\"latitude\"]))\n",
    "print(\"RatingValue:\", type(document[\"RatingValue\"]))"
   ]
  },
  {
   "attachments": {},
   "cell_type": "markdown",
   "id": "2bdbc7c0",
   "metadata": {},
   "source": [
    "## Shutoff"
   ]
  },
  {
   "cell_type": "code",
   "execution_count": 104,
   "id": "b18a57fc",
   "metadata": {},
   "outputs": [],
   "source": [
    "mongo.close()"
   ]
  }
 ],
 "metadata": {
  "kernelspec": {
   "display_name": "Python 3 (ipykernel)",
   "language": "python",
   "name": "python3"
  },
  "language_info": {
   "codemirror_mode": {
    "name": "ipython",
    "version": 3
   },
   "file_extension": ".py",
   "mimetype": "text/x-python",
   "name": "python",
   "nbconvert_exporter": "python",
   "pygments_lexer": "ipython3",
   "version": "3.10.11"
  }
 },
 "nbformat": 4,
 "nbformat_minor": 5
}
